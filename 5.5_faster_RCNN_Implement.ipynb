{
 "cells": [
  {
   "cell_type": "markdown",
   "metadata": {
    "colab_type": "text",
    "id": "EJBTGLTXh1pe"
   },
   "source": [
    "# Colab에서 돌려보는 Faster R-CNN"
   ]
  },
  {
   "cell_type": "markdown",
   "metadata": {
    "colab_type": "text",
    "id": "-j6wzsZjh3nl"
   },
   "source": [
    "해당 내용은 PULKIT SHARMA의 [A Practical Implementation of the Faster R-CNN Algorithm for Object Detection](https://www.analyticsvidhya.com/blog/2018/11/implementation-faster-r-cnn-python-object-detection/)을 번역한 내용입니다."
   ]
  },
  {
   "cell_type": "markdown",
   "metadata": {
    "colab_type": "text",
    "id": "Yx5W4IUhh3zN"
   },
   "source": [
    "## Introduction\n",
    "\n",
    "Object detection 알고리즘인 'Faster R-CNN'을 직접 실행해보자. 실험을 통해 Faster R-CNN이 얼마나 좋은 성능을 보여주는지 확인 할 수 있다.\n",
    "\n",
    "개념을  이해하기위해 [' A Step-by-Step Introduction to the Basic Object Detection Algorithms (Part 1)'](https://www.analyticsvidhya.com/blog/2018/10/a-step-by-step-introduction-to-the-basic-object-detection-algorithms-part-1/)를 읽어보는 걸 추천한다."
   ]
  },
  {
   "cell_type": "markdown",
   "metadata": {
    "colab_type": "text",
    "id": "J7FvW1bMjgTi"
   },
   "source": [
    "## Table of Contents\n",
    "1. A Brief Overview of the Different R-CNN Algorithms for Object Detection\n",
    "2. Understanding the Problem Statement\n",
    "3. Setting up the System\n",
    "4. Data Exploration\n",
    "5. Implementing Faster R-CNN"
   ]
  },
  {
   "cell_type": "markdown",
   "metadata": {
    "colab_type": "text",
    "id": "Z1p2dMs6jl_o"
   },
   "source": [
    "## A Brief Overview of the Different R-CNN Algorithms for Object Detection"
   ]
  },
  {
   "cell_type": "markdown",
   "metadata": {
    "colab_type": "text",
    "id": "y5SWrnLSp3lU"
   },
   "source": [
    "Faster R-CNN의 Object detection 과정은 다음과 같다.\n",
    "\n",
    "1. Input 이미지를 받아 Conv layer를 통과시켜 feature map을 얻는다.\n",
    "2. 이 feature map에 Region Proposal Network(RPN)을 적용해서 object proposals를 얻는다.\n",
    "3. 모든 proposals에 ROI pooling layer을 적용해서 동일한 크기(same size)로 만든다.\n",
    "4. 해당 proposals를 Fully connected layer를 통과시켜 classificaion과 bounding box 값을 얻는다.\n"
   ]
  },
  {
   "cell_type": "markdown",
   "metadata": {
    "colab_type": "text",
    "id": "JbrwuytImxN4"
   },
   "source": [
    "<br>\n",
    "<div align=\"center\">\n",
    "    <img src=\"https://cdn-images-1.medium.com/max/1000/1*e6dx5qzUKWwasIVGSuCyDA.png\" width=\"400\">\n",
    "    <br>\n",
    "    <font color=gray><i>Faster R-CNN</i><font>\n",
    "</div>\n",
    "<br>"
   ]
  },
  {
   "cell_type": "markdown",
   "metadata": {
    "colab_type": "text",
    "id": "mwZlFvh8mv4w"
   },
   "source": [
    "아래 표는 다른 알고리즘을 요약한 내용이다."
   ]
  },
  {
   "cell_type": "markdown",
   "metadata": {
    "colab_type": "text",
    "id": "4fYnVkDJlRoa"
   },
   "source": [
    "<br>\n",
    "<div align=\"center\">\n",
    "    <img src=\"https://user-images.githubusercontent.com/30274701/53162008-77de2500-360e-11e9-88bc-de5c9e301f99.png\" width=\"600\">\n",
    "    <br>\n",
    "    <font color=gray><i>Faster R-CNN</i><font>\n",
    "</div>\n",
    "<br>"
   ]
  },
  {
   "cell_type": "markdown",
   "metadata": {
    "colab_type": "text",
    "id": "W3v4msJ_h35g"
   },
   "source": [
    "## Understanding the Problem Statement"
   ]
  },
  {
   "cell_type": "markdown",
   "metadata": {
    "colab_type": "text",
    "id": "eF9wNCzYjYjQ"
   },
   "source": [
    "여기서는 'Blood Cell Detection' 문제를 해결해보자. 주어진 현미경 이미지에서  적혈구, 백혈구 및 혈소판 밀도(the Red Blood Cells (RBCs), White Blood Cells (WBCs), Platelets)을 찾는(detection) 문제이다. 최종 예상 결과는 아래 그림과 같다."
   ]
  },
  {
   "cell_type": "markdown",
   "metadata": {
    "colab_type": "text",
    "id": "hyHmdBZ4onXz"
   },
   "source": [
    "<br>\n",
    "<div align=\"center\">\n",
    "    <img src=\"https://s3-ap-south-1.amazonaws.com/av-blog-media/wp-content/uploads/2018/10/example.jpg\" width=\"400\">\n",
    "    <br>\n",
    "    <font color=gray><i>Faster R-CNN</i><font>\n",
    "</div>\n",
    "<br>"
   ]
  },
  {
   "cell_type": "markdown",
   "metadata": {
    "colab_type": "text",
    "id": "JbQl4uvmoq3n"
   },
   "source": [
    "이 데이터를 선택하는 이유는 혈류의 적혈구, 백혈구 및 혈소판 밀도가 면역계와 헤모글로빈에 대한 많은 정보를 제공하기 때문이다. 이 데이터를 활용하면 잠재적으로 사람이 건강한지 아닌지를 확인하는 데 도움이 될 수 있으며, 혈액에 불일치가 발견되면 이를 신속하게 발견하여 진단 할 수 있다.\n",
    "\n",
    "사람이 직접 현미경을 보며 진단하는 과정은 정확도가 낮고 고된 작업일 수 있다. 따라서 Deep learning Model이 중요한 역활을 할 수 있을 것이다. \n",
    "\n",
    "full blood cell detection dataset은 [여기](https://github.com/Shenggan/BCCD_Dataset)에서 받을 수 있다.\n",
    "\n",
    " 해당 데이터셋에서 몇 가지를 수정할 것이며, 모델을 만드는 전체 과정은 keras와 tensorflow를 이용해서 만들어 볼 것이다.\n",
    " 1. bounding boxes .xml 파일을 .csv format으로 변경\n",
    " 2. 전체 데이터셋을 랜덤하게 train과 test 셋으로 나눔."
   ]
  },
  {
   "cell_type": "markdown",
   "metadata": {
    "colab_type": "text",
    "id": "iwDAmza7pnls"
   },
   "source": [
    "## Setting up the System"
   ]
  },
  {
   "cell_type": "markdown",
   "metadata": {
    "colab_type": "text",
    "id": "C84s1UeXrWLf"
   },
   "source": [
    "사용할 라이브러리(library)는 다음과 같다. 해당 라이브러리를 txt 파일로 만들어 쉽게 설치할 수 있다.\n",
    "\n",
    "* pandas\n",
    "* matplotlib\n",
    "* tensorflow\n",
    "* keras – 2.0.3\n",
    "* numpy\n",
    "* opencv-python\n",
    "* sklearn\n",
    "* h5py\n",
    "\n",
    "다운로드 링크 : https://drive.google.com/file/d/1R4O0stMW9Wjksg-o7c54svntDiyask1B/view"
   ]
  },
  {
   "cell_type": "code",
   "execution_count": null,
   "metadata": {
    "colab": {
     "base_uri": "https://localhost:8080/",
     "height": 723
    },
    "colab_type": "code",
    "executionInfo": {
     "elapsed": 6614,
     "status": "ok",
     "timestamp": 1550754179270,
     "user": {
      "displayName": "이은용",
      "photoUrl": "",
      "userId": "18068618174645565873"
     },
     "user_tz": -540
    },
    "id": "S_r3mCGxrfCX",
    "outputId": "1e7e30d8-f48e-4a82-c204-5536dd92c52f"
   },
   "outputs": [],
   "source": [
    "!pip install -r C:/Users/home/Downloads/requirement.txt"
   ]
  },
  {
   "cell_type": "markdown",
   "metadata": {
    "colab_type": "text",
    "id": "Tl7phTW-sLZQ"
   },
   "source": [
    "## Data Exploration\n",
    "\n",
    "항상 데이터를 먼저 살펴보는 것이 중요하다. 전체적인 부분을 살펴보면서 어떻게 작업할 지 생각해보고 숨겨진 패턴을 찾을 수도 있다. 여기서는 데이터셋을 3가지 파일로 구성해서 학습을 진행 할 것이다.\n",
    "\n",
    "1. train_image\n",
    "2. test_image\n",
    "3. train.csv"
   ]
  },
  {
   "cell_type": "markdown",
   "metadata": {
    "colab_type": "text",
    "id": "AGnFGBwX1tqr"
   },
   "source": [
    "다운받은 데이터셋으로 csv파일은 새로 만들어야 한다. 저자가 사용한 코드는 다음과 같다. github에서 원본 레포를 clone한 후에, 로컬에서 csv 파일을 만들어 업로드하는 방법을 추천한다."
   ]
  },
  {
   "cell_type": "code",
   "execution_count": null,
   "metadata": {
    "colab": {
     "base_uri": "https://localhost:8080/",
     "height": 34
    },
    "colab_type": "code",
    "executionInfo": {
     "elapsed": 978,
     "status": "ok",
     "timestamp": 1550750238847,
     "user": {
      "displayName": "이은용",
      "photoUrl": "",
      "userId": "18068618174645565873"
     },
     "user_tz": -540
    },
    "id": "ItSOMSNF1hBK",
    "outputId": "f138f7fc-5409-470a-ce80-30b66bf31fe4"
   },
   "outputs": [],
   "source": [
    "%pylab inline\n",
    "\n",
    "import os, sys, random\n",
    "import xml.etree.ElementTree as ET\n",
    "from glob import glob\n",
    "import pandas as pd\n",
    "from shutil import copyfile\n",
    "\n",
    "annotations = glob('C:/Users/home/source/BCCD_dataset/BCCD/Annotations/*.xml') #using your download path\n",
    "\n",
    "df = []\n",
    "cnt = 0\n",
    "for file in annotations:\n",
    "    prev_filename = file.split('/')[-1].split('.')[0] + '.jpg'\n",
    "    \n",
    "    #print(prev_filename)\n",
    "    filename = str(cnt) + '.jpg'\n",
    "    row = []\n",
    "    parsedXML = ET.parse(file)\n",
    "    for node in parsedXML.getroot().iter('object'):\n",
    "        blood_cells = node.find('name').text\n",
    "        xmin = int(node.find('bndbox/xmin').text)\n",
    "        xmax = int(node.find('bndbox/xmax').text)\n",
    "        ymin = int(node.find('bndbox/ymin').text)\n",
    "        ymax = int(node.find('bndbox/ymax').text)\n",
    "\n",
    "        row = [prev_filename[12:], filename, blood_cells, xmin, xmax, ymin, ymax]\n",
    "        df.append(row)\n",
    "    cnt += 1\n",
    "    \n",
    "data = pd.DataFrame(df, columns=['prev_filename', 'filename', 'cell_type', 'xmin', 'xmax', 'ymin', 'ymax'])\n",
    "\n",
    "data[['prev_filename', 'cell_type', 'xmin', 'xmax', 'ymin', 'ymax']].to_csv('blood_cell_detection.csv', index=False)\n"
   ]
  },
  {
   "cell_type": "markdown",
   "metadata": {
    "colab_type": "text",
    "id": "qwkTmYFe2BdD"
   },
   "source": [
    "padas 라이브러리를 사용해서 csv 파일을 살펴보자. 6개의 column으로 이루어져 있으며, 내용은 다음과 같다.\n",
    "\n",
    "* image_names: contains the name of the image\n",
    "* cell_type: denotes the type of the cell\n",
    "* xmin: x-coordinate of the bottom left part of the image\n",
    "* xmax: x-coordinate of the top right part of the image\n",
    "* ymin: y-coordinate of the bottom left part of the image\n",
    "* ymax: y-coordinate of the top right part of the image"
   ]
  },
  {
   "cell_type": "code",
   "execution_count": null,
   "metadata": {
    "colab": {},
    "colab_type": "code",
    "id": "w85nxttFtMeS"
   },
   "outputs": [],
   "source": [
    "# importing required libraries\n",
    "import pandas as pd\n",
    "import matplotlib.pyplot as plt\n",
    "\n",
    "%matplotlib inline\n",
    "from matplotlib import patches"
   ]
  },
  {
   "cell_type": "code",
   "execution_count": null,
   "metadata": {
    "colab": {
     "base_uri": "https://localhost:8080/",
     "height": 195
    },
    "colab_type": "code",
    "executionInfo": {
     "elapsed": 557,
     "status": "ok",
     "timestamp": 1550753007107,
     "user": {
      "displayName": "이은용",
      "photoUrl": "",
      "userId": "18068618174645565873"
     },
     "user_tz": -540
    },
    "id": "dhKiYhAS0qFb",
    "outputId": "99e858e6-99ed-42a0-beef-1b739a4768f0"
   },
   "outputs": [],
   "source": [
    "# read the csv file using read_csv function of pandas\n",
    "train = pd.read_csv('./keras-frcnn/blood_cell_detection.csv')\n",
    "train.head()"
   ]
  },
  {
   "cell_type": "markdown",
   "metadata": {
    "colab_type": "text",
    "id": "Nat-YUAL4DOG"
   },
   "source": [
    "이미지 파일은 해당 github를 클론해서 가져오면 편리하다.\n",
    "https://github.com/Shenggan/BCCD_Dataset.git\n",
    "\n",
    "불러온 이미지도 확인해보자."
   ]
  },
  {
   "cell_type": "code",
   "execution_count": null,
   "metadata": {
    "colab": {
     "base_uri": "https://localhost:8080/",
     "height": 140
    },
    "colab_type": "code",
    "executionInfo": {
     "elapsed": 3886,
     "status": "ok",
     "timestamp": 1550752988333,
     "user": {
      "displayName": "이은용",
      "photoUrl": "",
      "userId": "18068618174645565873"
     },
     "user_tz": -540
    },
    "id": "llKEzcVz0wD5",
    "outputId": "06ae4b2d-b4a7-4efb-b6a2-da3980e5b9fd"
   },
   "outputs": [],
   "source": [
    "!git clone https://github.com/Shenggan/BCCD_Dataset.git"
   ]
  },
  {
   "cell_type": "code",
   "execution_count": null,
   "metadata": {
    "colab": {
     "base_uri": "https://localhost:8080/",
     "height": 286
    },
    "colab_type": "code",
    "executionInfo": {
     "elapsed": 1621,
     "status": "ok",
     "timestamp": 1550753012994,
     "user": {
      "displayName": "이은용",
      "photoUrl": "",
      "userId": "18068618174645565873"
     },
     "user_tz": -540
    },
    "id": "vUesD3Yh3-qq",
    "outputId": "f17a6252-6729-4d06-a953-13910655d531"
   },
   "outputs": [],
   "source": [
    "# reading single image using imread function of matplotlib\n",
    "image = plt.imread('c:/Users/home/source/BCCD_Dataset/BCCD/JPEGImages/BloodImage_00000.jpg')\n",
    "plt.imshow(image)"
   ]
  },
  {
   "cell_type": "markdown",
   "metadata": {
    "colab_type": "text",
    "id": "VXEGGe8b92ju"
   },
   "source": [
    "이미지에서 파란색 부분이 백혈구(WBCs)이며, 살짝 붉은 부분이 적혈구(RBC)이다."
   ]
  },
  {
   "cell_type": "markdown",
   "metadata": {
    "colab_type": "text",
    "id": "-15XOa4x7Wh-"
   },
   "source": [
    "총 이미지의 숫자를 확인해보자. 위 코드를 사용하면 전체 이미지 364장을 모두 csv 파일로 저장하게 된다. \n",
    "\n",
    "테스트 셋을 만들기 위해서 254장 뒷부분을 테스트셋으로 구성하자. data.split을 사용하면 더 좋을 것이다."
   ]
  },
  {
   "cell_type": "code",
   "execution_count": null,
   "metadata": {
    "colab": {
     "base_uri": "https://localhost:8080/",
     "height": 34
    },
    "colab_type": "code",
    "executionInfo": {
     "elapsed": 529,
     "status": "ok",
     "timestamp": 1550753016761,
     "user": {
      "displayName": "이은용",
      "photoUrl": "",
      "userId": "18068618174645565873"
     },
     "user_tz": -540
    },
    "id": "Fn-qjH_s4XoA",
    "outputId": "1f05bf12-57e7-4893-a074-70544809371e"
   },
   "outputs": [],
   "source": [
    "# Number of unique training images\n",
    "train['prev_filename'].nunique()"
   ]
  },
  {
   "cell_type": "code",
   "execution_count": null,
   "metadata": {
    "colab": {
     "base_uri": "https://localhost:8080/",
     "height": 87
    },
    "colab_type": "code",
    "executionInfo": {
     "elapsed": 374,
     "status": "ok",
     "timestamp": 1550753017091,
     "user": {
      "displayName": "이은용",
      "photoUrl": "",
      "userId": "18068618174645565873"
     },
     "user_tz": -540
    },
    "id": "IgKlwpn47ziq",
    "outputId": "950561be-1c46-41c0-b327-4c5ddb3926dc"
   },
   "outputs": [],
   "source": [
    "# Number of classes\n",
    "train['cell_type'].value_counts()"
   ]
  },
  {
   "cell_type": "code",
   "execution_count": null,
   "metadata": {},
   "outputs": [],
   "source": [
    "test_df = pd.read_csv('./keras-frcnn/blood_cell_detection.csv')\n",
    "test_df = test_df[4738:] # 10 images"
   ]
  },
  {
   "cell_type": "markdown",
   "metadata": {
    "colab_type": "text",
    "id": "6Uh_CyFa9T38"
   },
   "source": [
    "위 value_count를 보면, 3가지 class로 되어있는 것을 확인할 수 있다. 그럼 이미지에 bounding box를 더한 그림을 살펴보도록 하자."
   ]
  },
  {
   "cell_type": "code",
   "execution_count": null,
   "metadata": {
    "colab": {
     "base_uri": "https://localhost:8080/",
     "height": 340
    },
    "colab_type": "code",
    "executionInfo": {
     "elapsed": 3792,
     "status": "ok",
     "timestamp": 1550753022494,
     "user": {
      "displayName": "이은용",
      "photoUrl": "",
      "userId": "18068618174645565873"
     },
     "user_tz": -540
    },
    "id": "GU2TPD1N72US",
    "outputId": "536df9c5-f5fe-4b46-8435-6ca239f86886"
   },
   "outputs": [],
   "source": [
    "fig = plt.figure()\n",
    "\n",
    "#add axes to the image\n",
    "ax = fig.add_axes([0,0,1,1])\n",
    "\n",
    "# read and plot the image\n",
    "image = plt.imread('c:/Users/home/source/BCCD_Dataset/BCCD/JPEGImages/BloodImage_00000.jpg')\n",
    "plt.imshow(image)\n",
    "\n",
    "# iterating over the image for different objects\n",
    "for _,row in train[train.prev_filename == \"BloodImage_00000.jpg\"].iterrows():\n",
    "    xmin = row.xmin\n",
    "    xmax = row.xmax\n",
    "    ymin = row.ymin\n",
    "    ymax = row.ymax\n",
    "    \n",
    "    width = xmax - xmin\n",
    "    height = ymax - ymin\n",
    "    \n",
    "    # assign different color to different classes of objects\n",
    "    if row.cell_type == 'RBC':\n",
    "        edgecolor = 'r'\n",
    "        ax.annotate('RBC', xy=(xmax-40,ymin+20))\n",
    "    elif row.cell_type == 'WBC':\n",
    "        edgecolor = 'b'\n",
    "        ax.annotate('WBC', xy=(xmax-40,ymin+20))\n",
    "    elif row.cell_type == 'Platelets':\n",
    "        edgecolor = 'g'\n",
    "        ax.annotate('Platelets', xy=(xmax-40,ymin+20))\n",
    "        \n",
    "    # add bounding boxes to the image\n",
    "    rect = patches.Rectangle((xmin,ymin), width, height, edgecolor = edgecolor, facecolor = 'none')\n",
    "    \n",
    "    ax.add_patch(rect)"
   ]
  },
  {
   "cell_type": "markdown",
   "metadata": {
    "colab_type": "text",
    "id": "BOIiF6rF9p7v"
   },
   "source": [
    "위 그림처럼 결과가 나올수 있도록 학습할 것이다. 이미지에서 다른 클래스끼리 bounding box가 겹쳐있기도 하다."
   ]
  },
  {
   "cell_type": "markdown",
   "metadata": {
    "colab_type": "text",
    "id": "ZoObjwYM-lOu"
   },
   "source": [
    "## Implementing Faster R-CNN"
   ]
  },
  {
   "cell_type": "markdown",
   "metadata": {
    "colab_type": "text",
    "id": "-nikPPiI-sc2"
   },
   "source": [
    " Faster R-CNN 모델을 [keras-frcnn](https://github.com/kbardool/keras-frcnn.git)을 이용해서 만들 것이다. 해당 저장소를 clone한 후, 내용을 살펴보자.\n",
    " \n",
    " 먼저, `train_frcnn.py`을 실행시키면 주어진 이미지로 학습을 진행하고 model_weights를 pickle로 저장하여 h5 형태로 만들어준다. 학습을 하기위해서는 `filepath,x1,y1,x2,y2,class_name`의 내용이 있는 txt 파일이 필요하므로 위 형식의 파일을 먼저 만들어야 한다.\n",
    " \n",
    " `test_frcnn.py`을 실행시키면 저장된 weights 값을 불러온 모델에 test image를 통과시켜 결과를 출력한다."
   ]
  },
  {
   "cell_type": "markdown",
   "metadata": {},
   "source": [
    "### clone keras-frcnn git repo"
   ]
  },
  {
   "cell_type": "code",
   "execution_count": null,
   "metadata": {
    "colab": {
     "base_uri": "https://localhost:8080/",
     "height": 105
    },
    "colab_type": "code",
    "executionInfo": {
     "elapsed": 1815,
     "status": "ok",
     "timestamp": 1550753030039,
     "user": {
      "displayName": "이은용",
      "photoUrl": "",
      "userId": "18068618174645565873"
     },
     "user_tz": -540
    },
    "id": "hC7ofltI-1qG",
    "outputId": "6e1c419e-b2ff-4172-edbb-c556ad27d101"
   },
   "outputs": [],
   "source": [
    "!git clone https://github.com/kbardool/keras-frcnn.git"
   ]
  },
  {
   "cell_type": "markdown",
   "metadata": {},
   "source": [
    "### Create txt file"
   ]
  },
  {
   "cell_type": "code",
   "execution_count": null,
   "metadata": {
    "colab": {},
    "colab_type": "code",
    "id": "dSMFZI8kBjQl"
   },
   "outputs": [],
   "source": [
    "data = pd.DataFrame()\n",
    "data['format'] = train['prev_filename']\n",
    "\n",
    "# as the images are in train_images folder, add train_images before the image name\n",
    "for i in range(data.shape[0]):\n",
    "    data['format'][i] = 'c:/Users/home/source/BCCD_Dataset/BCCD/JPEGImages/' + data['format'][i]\n",
    "\n",
    "# add xmin, ymin, xmax, ymax and class as per the format required\n",
    "for i in range(data.shape[0]):\n",
    "    data['format'][i] = data['format'][i] + ',' + str(train['xmin'][i]) + ',' + str(train['ymin'][i]) + ',' + str(train['xmax'][i]) + ',' + str(train['ymax'][i]) + ',' + train['cell_type'][i]\n",
    "\n",
    "data.to_csv('./annotate.txt', header=None, index=None, sep=' ')"
   ]
  },
  {
   "cell_type": "code",
   "execution_count": null,
   "metadata": {},
   "outputs": [],
   "source": [
    "data_df = pd.read_csv('./keras-frcnn/annotate.txt', header=None)"
   ]
  },
  {
   "cell_type": "code",
   "execution_count": null,
   "metadata": {},
   "outputs": [],
   "source": [
    "data_df.head()"
   ]
  },
  {
   "cell_type": "code",
   "execution_count": null,
   "metadata": {},
   "outputs": [],
   "source": [
    "c:/Users/home/Research_and_ex/edwith_paperMac/keras-frcnn/model_frcnn.hdf5"
   ]
  },
  {
   "cell_type": "code",
   "execution_count": null,
   "metadata": {
    "colab": {
     "base_uri": "https://localhost:8080/",
     "height": 1110
    },
    "colab_type": "code",
    "executionInfo": {
     "elapsed": 225694,
     "status": "ok",
     "timestamp": 1550754411509,
     "user": {
      "displayName": "이은용",
      "photoUrl": "",
      "userId": "18068618174645565873"
     },
     "user_tz": -540
    },
    "id": "tXRKGmHcCPAV",
    "outputId": "a1ad2497-e000-4311-f9cf-1c6114c20e8b"
   },
   "outputs": [],
   "source": [
    "!python ./keras-frcnn/train_frcnn.py  -o simple -p ./annotate.txtb"
   ]
  },
  {
   "cell_type": "markdown",
   "metadata": {
    "colab": {},
    "colab_type": "code",
    "id": "ULdbYSidF7uR"
   },
   "source": [
    "학습에 시간이 소요되는 관계로 저자가 미리 학습시켜놓은 weights.h5 를 다운받아 test에 사용해보자.\n",
    "\n",
    "** weights 파일은 코드와 같은 위치에 저장시켜놓으면 수정없이 바로 사용할 수 있다."
   ]
  },
  {
   "cell_type": "code",
   "execution_count": null,
   "metadata": {},
   "outputs": [],
   "source": [
    "!python ./keras-frcnn/test_frcnn.py -p ./keras-frcnn/test_data/"
   ]
  },
  {
   "cell_type": "code",
   "execution_count": null,
   "metadata": {},
   "outputs": [],
   "source": []
  }
 ],
 "metadata": {
  "accelerator": "GPU",
  "colab": {
   "collapsed_sections": [],
   "name": "faster_RCNN_colab.ipynb",
   "provenance": [],
   "toc_visible": true,
   "version": "0.3.2"
  },
  "kernelspec": {
   "display_name": "Python 3",
   "language": "python",
   "name": "python3"
  },
  "language_info": {
   "codemirror_mode": {
    "name": "ipython",
    "version": 3
   },
   "file_extension": ".py",
   "mimetype": "text/x-python",
   "name": "python",
   "nbconvert_exporter": "python",
   "pygments_lexer": "ipython3",
   "version": "3.6.8"
  }
 },
 "nbformat": 4,
 "nbformat_minor": 1
}
